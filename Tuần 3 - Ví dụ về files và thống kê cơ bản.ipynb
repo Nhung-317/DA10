{
 "cells": [
  {
   "cell_type": "markdown",
   "id": "9cd388d4",
   "metadata": {},
   "source": [
    "# Part 1: Ghi và đọc files (txt, csv)"
   ]
  },
  {
   "cell_type": "code",
   "execution_count": 21,
   "id": "68a7d738",
   "metadata": {},
   "outputs": [
    {
     "name": "stdout",
     "output_type": "stream",
     "text": [
      "Hello, world!Hello again!\n",
      "Hello, world!Hello again!\n",
      "['Name', 'Age', 'City']\n",
      "['Nhung', '25', 'New York']\n",
      "['Alice', '30', 'London']\n",
      "['Bob', '35', 'Paris']\n"
     ]
    }
   ],
   "source": [
    "### Ghi nội dung vào một file văn bản\n",
    "content = \"Hello, world!\"\n",
    "with open('file.txt', 'w') as file:\n",
    "    file.write(content)\n",
    "    \n",
    "### Ghi nội dung vào một file văn bản dùng để nối thêm (append)\n",
    "content = \"Hello again!\"\n",
    "with open('file.txt', 'a') as file:\n",
    "    file.write(content)\n",
    "    \n",
    "### Đọc nội dung của một file văn bản\n",
    "with open('file.txt', 'r') as file:\n",
    "    content = file.read()\n",
    "    print(content)\n",
    "\n",
    "### Đọc từng dòng trong một file văn bản\n",
    "with open('file.txt', 'r') as file:\n",
    "    for line in file:\n",
    "        print(line)\n",
    "\n",
    "\n",
    "## Với file csv, cần import thêm thư viên \"csv\"\n",
    "import csv\n",
    "\n",
    "### Ghi file CSV\n",
    "data = [\n",
    "    ['Name', 'Age', 'City'],\n",
    "    ['John', '25', 'New York'],\n",
    "    ['Alice', '30', 'London'],\n",
    "    ['Bob', '35', 'Paris']\n",
    "]\n",
    "with open('data.csv', 'w', newline='') as file:\n",
    "    writer = csv.writer(file)\n",
    "    writer.writerows(data)\n",
    "\n",
    "\n",
    "###  Đọc file CSV\n",
    "with open('data_1.csv', 'r') as file:\n",
    "    reader = csv.reader(file)\n",
    "    for row in reader:\n",
    "        print(row)"
   ]
  },
  {
   "cell_type": "code",
   "execution_count": 22,
   "id": "038e9a98",
   "metadata": {},
   "outputs": [],
   "source": [
    "content = \"Hello, Hoang, Thao, Nhung!\"\n",
    "with open('file12.txt', 'w') as file:\n",
    "    file.write(content)"
   ]
  },
  {
   "cell_type": "code",
   "execution_count": 25,
   "id": "90a0dd55",
   "metadata": {},
   "outputs": [
    {
     "ename": "UnicodeDecodeError",
     "evalue": "'charmap' codec can't decode byte 0x90 in position 1102: character maps to <undefined>",
     "output_type": "error",
     "traceback": [
      "\u001b[1;31m---------------------------------------------------------------------------\u001b[0m",
      "\u001b[1;31mUnicodeDecodeError\u001b[0m                        Traceback (most recent call last)",
      "Cell \u001b[1;32mIn[25], line 3\u001b[0m\n\u001b[0;32m      1\u001b[0m \u001b[38;5;28;01mwith\u001b[39;00m \u001b[38;5;28mopen\u001b[39m(\u001b[38;5;124m'\u001b[39m\u001b[38;5;124msale_data_vn.csv\u001b[39m\u001b[38;5;124m'\u001b[39m, \u001b[38;5;124m'\u001b[39m\u001b[38;5;124mr\u001b[39m\u001b[38;5;124m'\u001b[39m) \u001b[38;5;28;01mas\u001b[39;00m file:\n\u001b[0;32m      2\u001b[0m     reader \u001b[38;5;241m=\u001b[39m csv\u001b[38;5;241m.\u001b[39mreader(file)\n\u001b[1;32m----> 3\u001b[0m     \u001b[38;5;28;01mfor\u001b[39;00m row \u001b[38;5;129;01min\u001b[39;00m reader:\n\u001b[0;32m      4\u001b[0m         \u001b[38;5;28mprint\u001b[39m(row)\n",
      "File \u001b[1;32mG:\\New folder\\lib\\encodings\\cp1252.py:23\u001b[0m, in \u001b[0;36mIncrementalDecoder.decode\u001b[1;34m(self, input, final)\u001b[0m\n\u001b[0;32m     22\u001b[0m \u001b[38;5;28;01mdef\u001b[39;00m \u001b[38;5;21mdecode\u001b[39m(\u001b[38;5;28mself\u001b[39m, \u001b[38;5;28minput\u001b[39m, final\u001b[38;5;241m=\u001b[39m\u001b[38;5;28;01mFalse\u001b[39;00m):\n\u001b[1;32m---> 23\u001b[0m     \u001b[38;5;28;01mreturn\u001b[39;00m \u001b[43mcodecs\u001b[49m\u001b[38;5;241;43m.\u001b[39;49m\u001b[43mcharmap_decode\u001b[49m\u001b[43m(\u001b[49m\u001b[38;5;28;43minput\u001b[39;49m\u001b[43m,\u001b[49m\u001b[38;5;28;43mself\u001b[39;49m\u001b[38;5;241;43m.\u001b[39;49m\u001b[43merrors\u001b[49m\u001b[43m,\u001b[49m\u001b[43mdecoding_table\u001b[49m\u001b[43m)\u001b[49m[\u001b[38;5;241m0\u001b[39m]\n",
      "\u001b[1;31mUnicodeDecodeError\u001b[0m: 'charmap' codec can't decode byte 0x90 in position 1102: character maps to <undefined>"
     ]
    }
   ],
   "source": [
    "with open('sale_data_vn.csv', 'r') as file:\n",
    "    reader = csv.reader(file)\n",
    "    for row in reader:\n",
    "        print(row)"
   ]
  },
  {
   "cell_type": "markdown",
   "id": "059a8ca6",
   "metadata": {},
   "source": [
    "# Part B: Thống kê cơ bản"
   ]
  },
  {
   "cell_type": "markdown",
   "id": "6bd781ea",
   "metadata": {},
   "source": [
    "# Ví dụ về tầng số và tầng suất\n",
    "\n",
    "Giả sử bạn là một nhà tiếp thị và bạn muốn phân tích tần suất của các loại sản phẩm mà khách hàng mua từ cửa hàng của bạn trong một tháng. Bạn đã thu thập dữ liệu và ghi lại loại sản phẩm mà mỗi khách hàng đã mua. Dữ liệu của bạn có thể như sau:\n",
    "\n",
    "products = ['Áo', 'Quần', 'Giày', 'Áo', 'Áo', 'Quần', 'Mũ', 'Quần', 'Giày', 'Áo']"
   ]
  },
  {
   "cell_type": "code",
   "execution_count": 127,
   "id": "cd118b16",
   "metadata": {},
   "outputs": [
    {
     "name": "stdout",
     "output_type": "stream",
     "text": [
      "Tần số của sản phẩm Quần: 3\n",
      "Tần số của sản phẩm Áo: 4\n",
      "Tần số của sản phẩm Mũ: 1\n",
      "Tần số của sản phẩm Giày: 2\n",
      "Tần suất của sản phẩm Quần: 30.00%\n",
      "Tần suất của sản phẩm Áo: 40.00%\n",
      "Tần suất của sản phẩm Mũ: 10.00%\n",
      "Tần suất của sản phẩm Giày: 20.00%\n"
     ]
    }
   ],
   "source": [
    "# Tạo 1 list\n",
    "products = ['Áo', 'Quần', 'Giày', 'Áo', 'Áo', 'Quần', 'Mũ', 'Quần', 'Giày', 'Áo']\n",
    "\n",
    "# Tính tần suất (absolute frequency)\n",
    "unique_products = list(set(products))\n",
    "frequency = []\n",
    "for product in unique_products:\n",
    "    freq = products.count(product)\n",
    "    frequency.append((product, freq))\n",
    "\n",
    "# In kết quả tần số\n",
    "for product, freq in frequency:\n",
    "    print(f'Tần số của sản phẩm {product}: {freq}')\n",
    "\n",
    "# Tính tần suất (relative frequency)\n",
    "total_count = len(products)\n",
    "relative_frequency = []\n",
    "for product, freq in frequency:\n",
    "    rel_freq = freq / total_count\n",
    "    relative_frequency.append((product, rel_freq))\n",
    "\n",
    "# In kết quả tần suất tương đối\n",
    "for product, rel_freq in relative_frequency:\n",
    "    print(f'Tần suất của sản phẩm {product}: {rel_freq:.2%}')"
   ]
  },
  {
   "cell_type": "markdown",
   "id": "c0af457c",
   "metadata": {},
   "source": [
    "# Ví dụ minh họa về độ đo về khuynh hướng tập trung\n",
    "Giả sử bạn là một nhà tiếp thị và bạn muốn phân tích các mức độ quan tâm của khách hàng đối với các sản phẩm của bạn dựa trên dữ liệu khảo sát. Bạn đã thu thập thông tin từ 100 khách hàng và yêu cầu họ đánh giá sự quan tâm của họ theo thang điểm từ 1 đến 5. \n",
    "\n",
    "Dữ liệu khảo sát của bạn được lưu trữ trong một danh sách:\n",
    "\n",
    "interest_levels = [4, 3, 2, 5, 5, 3, 4, 5, 2, 4, 5, 4, 3, 2, 1, 5, 3, 4, 5, 5, 2, 4, 3, 4, 5, 5, 4, 4, 3, 3, 2, 1, 4, 5, 3, 4, 5, 2, 3, 4, 4, 3, 5, 4, 4, 2, 3, 4, 5, 4, 5, 4, 3, 3, 2, 4, 5, 3, 4, 5, 4, 4, 2, 4, 5, 4, 3, 3, 2, 5, 4, 4, 3, 5, 4, 3, 2, 4, 5, 5, 4, 4, 3, 2, 4, 5, 4, 5, 4, 3, 3, 2, 4, 5, 3, 4, 5, 4, 4, 2, 4, 5, 4, 3, 3, 2, 5, 4, 4, 3]"
   ]
  },
  {
   "cell_type": "code",
   "execution_count": 128,
   "id": "3e2ed3e8",
   "metadata": {},
   "outputs": [
    {
     "name": "stdout",
     "output_type": "stream",
     "text": [
      "Giá trị trung bình: 3.690909090909091\n",
      "Giá trị chính giữa (median): 4.0\n",
      "Giá trị xuất hiện nhiều nhất (mode): 4\n"
     ]
    }
   ],
   "source": [
    "# Khai báo thư viện\n",
    "import statistics\n",
    "\n",
    "# Tạo 1 list chứa các đánh giá\n",
    "interest_levels = [4, 3, 2, 5, 5, 3, 4, 5, 2, 4, 5, 4, 3, 2, 1, 5, 3, 4, 5, 5, 2, 4, 3, 4, 5, 5, 4, 4, 3, 3, \n",
    "                   2, 1, 4, 5, 3, 4, 5, 2, 3, 4, 4, 3, 5, 4, 4, 2, 3, 4, 5, 4, 5, 4, 3, 3, 2, 4, 5, 3, 4, 5, \n",
    "                   4, 4, 2, 4, 5, 4, 3, 3, 2, 5, 4, 4, 3, 5, 4, 3, 2, 4, 5, 5, 4, 4, 3, 2, 4, 5, 4, 5, 4, 3, \n",
    "                   3, 2, 4, 5, 3, 4, 5, 4, 4, 2, 4, 5, 4, 3, 3, 2, 5, 4, 4, 3]\n",
    "\n",
    "\n",
    "# Tính giá trị trung bình (mean)\n",
    "mean_value = statistics.mean(interest_levels)\n",
    "\n",
    "# Tìm giá trị chính giữa (median)\n",
    "median_value = statistics.median(interest_levels)\n",
    "\n",
    "# Tìm giá trị xuất hiện nhiều nhất (mode)\n",
    "mode_value = statistics.mode(interest_levels)\n",
    "\n",
    "# In kết quả\n",
    "print(f\"Giá trị trung bình: {mean_value}\")\n",
    "print(f\"Giá trị chính giữa (median): {median_value}\")\n",
    "print(f\"Giá trị xuất hiện nhiều nhất (mode): {mode_value}\")\n"
   ]
  },
  {
   "cell_type": "markdown",
   "id": "ce40998a",
   "metadata": {},
   "source": [
    "## Visualize results"
   ]
  },
  {
   "cell_type": "code",
   "execution_count": 129,
   "id": "40e6a16e",
   "metadata": {},
   "outputs": [
    {
     "data": {
      "image/png": "[encoded data removed]",
      "text/plain": [
       "<Figure size 432x288 with 1 Axes>"
      ]
     },
     "metadata": {
      "needs_background": "light"
     },
     "output_type": "display_data"
    }
   ],
   "source": [
    "import matplotlib.pyplot as plt\n",
    "\n",
    "# Tạo biểu đồ histogram\n",
    "hist, bins, _ = plt.hist(interest_levels, bins=range(1, 7), edgecolor='black')\n",
    "\n",
    "# Đếm số lượng trong mỗi thanh\n",
    "for i in range(len(hist)):\n",
    "    plt.text(bins[i] + 0.5, hist[i], str(int(hist[i])), ha='center', va='bottom')\n",
    "\n",
    "plt.xlabel('Mức quan tâm')\n",
    "plt.ylabel('Tần suất')\n",
    "plt.title('Phân phối mức quan tâm của khách hàng')\n",
    "plt.xticks(range(1, 6))\n",
    "plt.show()"
   ]
  }
 ],
 "metadata": {
  "kernelspec": {
   "display_name": "Python 3 (ipykernel)",
   "language": "python",
   "name": "python3"
  },
  "language_info": {
   "codemirror_mode": {
    "name": "ipython",
    "version": 3
   },
   "file_extension": ".py",
   "mimetype": "text/x-python",
   "name": "python",
   "nbconvert_exporter": "python",
   "pygments_lexer": "ipython3",
   "version": "3.10.9"
  }
 },
 "nbformat": 4,
 "nbformat_minor": 5
}
